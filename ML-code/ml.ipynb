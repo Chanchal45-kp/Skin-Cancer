{
 "cells": [
  {
   "cell_type": "code",
   "execution_count": 54,
   "id": "025e2962",
   "metadata": {},
   "outputs": [],
   "source": [
    "import tensorflow as tf\n",
    "import pandas as pd\n",
    "import matplotlib.pyplot as plt\n",
    "import seaborn as sns"
   ]
  },
  {
   "cell_type": "code",
   "execution_count": 55,
   "id": "5fe7508c",
   "metadata": {},
   "outputs": [],
   "source": [
    "import os\n",
    "import random\n",
    "import shutil"
   ]
  },
  {
   "cell_type": "code",
   "execution_count": 117,
   "id": "cee7bdbf",
   "metadata": {},
   "outputs": [],
   "source": [
    "train_dir = 'reorganized'\n",
    "\n",
    "limited_dir = 'train_limited'\n",
    "os.makedirs(limited_dir, exist_ok=True)"
   ]
  },
  {
   "cell_type": "code",
   "execution_count": 127,
   "id": "e94a02d7",
   "metadata": {},
   "outputs": [],
   "source": [
    "for class_name in os.listdir(train_dir):\n",
    "    class_path = os.path.join(train_dir, class_name)\n",
    "    \n",
    "    if os.path.isdir(class_path):\n",
    "    \n",
    "        all_images = [os.path.join(class_path, fname) for fname in os.listdir(class_path)]\n",
    "        \n",
    "        selected_images = random.sample(all_images, 115)\n",
    "        \n",
    "        class_dest = os.path.join(limited_dir, class_name)\n",
    "        os.makedirs(class_dest, exist_ok=True)\n",
    "        \n",
    "        for image in selected_images:\n",
    "            shutil.copy(image, class_dest)"
   ]
  },
  {
   "cell_type": "code",
   "execution_count": 56,
   "id": "846aae15",
   "metadata": {},
   "outputs": [],
   "source": [
    "import keras\n",
    "from keras.preprocessing.image import ImageDataGenerator\n",
    "from tensorflow.keras.preprocessing import image"
   ]
  },
  {
   "cell_type": "code",
   "execution_count": 120,
   "id": "b5a5a596",
   "metadata": {},
   "outputs": [],
   "source": [
    "train_limited_dir = 'train_limited'\n",
    "train_set_dir = 'train_set'\n",
    "valid_set_dir = 'valid_set'\n",
    "\n",
    "os.makedirs(train_set_dir, exist_ok=True)\n",
    "os.makedirs(valid_set_dir, exist_ok=True)"
   ]
  },
  {
   "cell_type": "code",
   "execution_count": 57,
   "id": "7bd16fc9",
   "metadata": {},
   "outputs": [],
   "source": [
    "from sklearn.model_selection import train_test_split\n",
    "import numpy as np"
   ]
  },
  {
   "cell_type": "code",
   "execution_count": 128,
   "id": "7d1b367a",
   "metadata": {},
   "outputs": [
    {
     "name": "stdout",
     "output_type": "stream",
     "text": [
      "Dataset has been split and saved successfully.\n"
     ]
    }
   ],
   "source": [
    "for class_name in os.listdir(train_limited_dir):\n",
    "    class_dir = os.path.join(train_limited_dir, class_name)\n",
    "    if os.path.isdir(class_dir):\n",
    "        images = [os.path.join(class_dir, image) for image in os.listdir(class_dir)]\n",
    "        \n",
    "\n",
    "        train_images, valid_images = train_test_split(images, test_size=0.2, random_state=42)\n",
    "\n",
    "        os.makedirs(os.path.join(train_set_dir, class_name), exist_ok=True)\n",
    "        os.makedirs(os.path.join(valid_set_dir, class_name), exist_ok=True)\n",
    "        \n",
    "        for image in train_images:\n",
    "            shutil.move(image, os.path.join(train_set_dir, class_name, os.path.basename(image)))\n",
    "        \n",
    "        for image in valid_images:\n",
    "            shutil.move(image, os.path.join(valid_set_dir, class_name, os.path.basename(image)))\n",
    "\n",
    "print(\"Dataset has been split and saved successfully.\")"
   ]
  },
  {
   "cell_type": "code",
   "execution_count": 134,
   "id": "e8393b3a",
   "metadata": {},
   "outputs": [],
   "source": [
    "train_set_dir = 'train_set'\n",
    "train_augmentation_dir = 'train_augmented'\n",
    "\n",
    "os.makedirs(train_augmentation_dir, exist_ok=True)"
   ]
  },
  {
   "cell_type": "code",
   "execution_count": 201,
   "id": "d506f9ec",
   "metadata": {},
   "outputs": [],
   "source": [
    "datagen = ImageDataGenerator(\n",
    "        rotation_range=10,\n",
    "        width_shift_range=0.2,\n",
    "        height_shift_range=0.2,\n",
    "        horizontal_flip=True,\n",
    "        vertical_flip = True,\n",
    "        fill_mode='nearest')"
   ]
  },
  {
   "cell_type": "code",
   "execution_count": 202,
   "id": "268246bb",
   "metadata": {},
   "outputs": [
    {
     "name": "stdout",
     "output_type": "stream",
     "text": [
      "Data augmentation applied successfully, and augmented images saved.\n"
     ]
    }
   ],
   "source": [
    "for class_name in os.listdir(train_set_dir):\n",
    "    class_dir = os.path.join(train_set_dir, class_name)\n",
    "    \n",
    "    if os.path.isdir(class_dir):\n",
    "        augmented_class_dir = os.path.join(train_augmentation_dir, class_name)\n",
    "        os.makedirs(augmented_class_dir, exist_ok=True)\n",
    "        \n",
    "        for img_name in os.listdir(class_dir):\n",
    "            img_path = os.path.join(class_dir, img_name)\n",
    "            \n",
    "            if img_path.lower().endswith(('.png', '.jpg', '.jpeg', '.bmp', '.gif')):\n",
    "                img = image.load_img(img_path)\n",
    "                img_array = image.img_to_array(img)\n",
    "                img_array = np.expand_dims(img_array, axis=0) \n",
    "\n",
    "                i = 0\n",
    "                for batch in datagen.flow(img_array, batch_size=1, save_to_dir=augmented_class_dir, save_prefix=img_name.split('.')[0], save_format='jpeg'):\n",
    "                    i += 1\n",
    "                    if i > 3: \n",
    "                        break\n",
    "\n",
    "print(\"Data augmentation applied successfully, and augmented images saved.\")"
   ]
  },
  {
   "cell_type": "markdown",
   "id": "e7d242bb",
   "metadata": {},
   "source": [
    "##Image Processing"
   ]
  },
  {
   "cell_type": "code",
   "execution_count": 5,
   "id": "3572906c",
   "metadata": {},
   "outputs": [
    {
     "name": "stdout",
     "output_type": "stream",
     "text": [
      "Found 38569 files belonging to 7 classes.\n"
     ]
    }
   ],
   "source": [
    "training_set = tf.keras.utils.image_dataset_from_directory(\n",
    "    'train_dir',\n",
    "    labels=\"inferred\",\n",
    "    label_mode=\"categorical\",\n",
    "    class_names=None,\n",
    "    color_mode=\"rgb\",\n",
    "    batch_size=32,\n",
    "    image_size=(96,96),\n",
    "    shuffle=True,\n",
    "    seed=None,\n",
    "    validation_split=None,\n",
    "    subset=None,\n",
    "    interpolation=\"bilinear\",\n",
    "    follow_links=False,\n",
    "    crop_to_aspect_ratio=False,\n",
    ")"
   ]
  },
  {
   "cell_type": "code",
   "execution_count": 44,
   "id": "8eb067fb",
   "metadata": {},
   "outputs": [
    {
     "name": "stdout",
     "output_type": "stream",
     "text": [
      "Found 938 files belonging to 7 classes.\n"
     ]
    }
   ],
   "source": [
    "validation_set = tf.keras.utils.image_dataset_from_directory(\n",
    "    'val_dir',\n",
    "    labels=\"inferred\",\n",
    "    label_mode=\"categorical\",\n",
    "    class_names=None,\n",
    "    color_mode=\"rgb\",\n",
    "    batch_size=32,\n",
    "    image_size=(96,96),\n",
    "    shuffle=True,\n",
    "    seed=None,\n",
    "    validation_split=None,\n",
    "    subset=None,\n",
    "    interpolation=\"bilinear\",\n",
    "    follow_links=False,\n",
    "    crop_to_aspect_ratio=False,\n",
    ")"
   ]
  },
  {
   "cell_type": "code",
   "execution_count": 46,
   "id": "b3b7a95e",
   "metadata": {},
   "outputs": [],
   "source": [
    "def Normalizer(image,label):\n",
    "    image = tf.cast(image/255.,tf.float32)\n",
    "    return image, label\n",
    "training_set, validation_set = training_set.map(Normalizer), validation_set.map(Normalizer)"
   ]
  },
  {
   "cell_type": "markdown",
   "id": "9e6a9aec",
   "metadata": {},
   "source": [
    "\n",
    "# Model Build"
   ]
  },
  {
   "cell_type": "code",
   "execution_count": 8,
   "id": "8d1d4247",
   "metadata": {},
   "outputs": [],
   "source": [
    "from tensorflow.keras.models import Sequential\n",
    "from keras.layers import Conv2D, MaxPooling2D\n",
    "from keras.layers import Activation, Dropout, Flatten, Dense, BatchNormalization"
   ]
  },
  {
   "cell_type": "code",
   "execution_count": 9,
   "id": "4bb5f17e",
   "metadata": {},
   "outputs": [],
   "source": [
    "model = Sequential()"
   ]
  },
  {
   "cell_type": "code",
   "execution_count": 10,
   "id": "f5e77dcb",
   "metadata": {},
   "outputs": [],
   "source": [
    "model.add(Conv2D(16, kernel_size=(3, 3), activation = 'relu', input_shape=[96,96,3], padding='same'))\n",
    "model.add(Conv2D(32, kernel_size=(3, 3), activation = 'relu', padding='same'))\n",
    "model.add(BatchNormalization())\n",
    "model.add(MaxPooling2D(pool_size=(3,3)))\n",
    "model.add(Dropout(0.25))"
   ]
  },
  {
   "cell_type": "code",
   "execution_count": 11,
   "id": "9ca846a4",
   "metadata": {},
   "outputs": [],
   "source": [
    "model.add(Conv2D(64, kernel_size=(3, 3), activation = 'relu', padding='same'))\n",
    "model.add(Conv2D(64, kernel_size=(3, 3), activation = 'relu', padding='same'))\n",
    "model.add(BatchNormalization())\n",
    "model.add(MaxPooling2D(pool_size=(2,2)))\n",
    "model.add(Dropout(0.25))"
   ]
  },
  {
   "cell_type": "code",
   "execution_count": 12,
   "id": "818ae34f",
   "metadata": {},
   "outputs": [],
   "source": [
    "model.add(Conv2D(128, kernel_size=(3, 3), activation = 'relu', padding='same'))\n",
    "model.add(Conv2D(128, kernel_size=(3, 3), activation = 'relu', padding='same'))\n",
    "model.add(BatchNormalization())\n",
    "model.add(MaxPooling2D(pool_size=(2,2)))\n",
    "model.add(Dropout(0.25))"
   ]
  },
  {
   "cell_type": "code",
   "execution_count": 13,
   "id": "228f494f",
   "metadata": {},
   "outputs": [],
   "source": [
    "model.add(Flatten())"
   ]
  },
  {
   "cell_type": "code",
   "execution_count": 14,
   "id": "c849ce7f",
   "metadata": {},
   "outputs": [],
   "source": [
    "model.add(Dense(units=1024,activation='relu'))\n",
    "model.add(BatchNormalization())\n",
    "#model.add(Dense(units=32,activation='relu'))"
   ]
  },
  {
   "cell_type": "code",
   "execution_count": 15,
   "id": "1be595ed",
   "metadata": {},
   "outputs": [],
   "source": [
    "model.add(Dropout(0.5))"
   ]
  },
  {
   "cell_type": "code",
   "execution_count": 16,
   "id": "e737553c",
   "metadata": {},
   "outputs": [],
   "source": [
    "model.add(Dense(units=7,activation='softmax'))"
   ]
  },
  {
   "cell_type": "code",
   "execution_count": null,
   "id": "31207f59",
   "metadata": {},
   "outputs": [],
   "source": [
    "'''initial_lr = 0.001\n",
    "final_lr = 0.00001\n",
    "decay_step = 32 * 20\n",
    "decay = (final_lr/initial_lr)**(1/decay_step)\n",
    "learn_rate = tf.keras.optimizers.schedules.ExponentialDecay(\n",
    "                initial_learning_rate = initial_lr,\n",
    "                decay_steps = decay_step,\n",
    "                decay_rate = 0.96,\n",
    "                staircase = False)'''"
   ]
  },
  {
   "cell_type": "code",
   "execution_count": 17,
   "id": "823bb89e",
   "metadata": {},
   "outputs": [],
   "source": [
    "from keras.callbacks import ReduceLROnPlateau\n",
    "reduce_lr = tf.keras.callbacks.ReduceLROnPlateau(\n",
    "               monitor='val_loss',\n",
    "               factor = 0.25,\n",
    "               patience = 3,\n",
    "               min_lr = 0.00001)"
   ]
  },
  {
   "cell_type": "code",
   "execution_count": 18,
   "id": "d39ddb45",
   "metadata": {},
   "outputs": [],
   "source": [
    "model.compile(optimizer=tf.keras.optimizers.Adam(learning_rate=0.001), loss='categorical_crossentropy', metrics=['accuracy'])"
   ]
  },
  {
   "cell_type": "code",
   "execution_count": 19,
   "id": "cff8c10d",
   "metadata": {},
   "outputs": [
    {
     "name": "stdout",
     "output_type": "stream",
     "text": [
      "Model: \"sequential\"\n",
      "_________________________________________________________________\n",
      " Layer (type)                Output Shape              Param #   \n",
      "=================================================================\n",
      " conv2d (Conv2D)             (None, 96, 96, 16)        448       \n",
      "                                                                 \n",
      " conv2d_1 (Conv2D)           (None, 96, 96, 32)        4640      \n",
      "                                                                 \n",
      " batch_normalization (BatchN  (None, 96, 96, 32)       128       \n",
      " ormalization)                                                   \n",
      "                                                                 \n",
      " max_pooling2d (MaxPooling2D  (None, 32, 32, 32)       0         \n",
      " )                                                               \n",
      "                                                                 \n",
      " dropout (Dropout)           (None, 32, 32, 32)        0         \n",
      "                                                                 \n",
      " conv2d_2 (Conv2D)           (None, 32, 32, 64)        18496     \n",
      "                                                                 \n",
      " conv2d_3 (Conv2D)           (None, 32, 32, 64)        36928     \n",
      "                                                                 \n",
      " batch_normalization_1 (Batc  (None, 32, 32, 64)       256       \n",
      " hNormalization)                                                 \n",
      "                                                                 \n",
      " max_pooling2d_1 (MaxPooling  (None, 16, 16, 64)       0         \n",
      " 2D)                                                             \n",
      "                                                                 \n",
      " dropout_1 (Dropout)         (None, 16, 16, 64)        0         \n",
      "                                                                 \n",
      " conv2d_4 (Conv2D)           (None, 16, 16, 128)       73856     \n",
      "                                                                 \n",
      " conv2d_5 (Conv2D)           (None, 16, 16, 128)       147584    \n",
      "                                                                 \n",
      " batch_normalization_2 (Batc  (None, 16, 16, 128)      512       \n",
      " hNormalization)                                                 \n",
      "                                                                 \n",
      " max_pooling2d_2 (MaxPooling  (None, 8, 8, 128)        0         \n",
      " 2D)                                                             \n",
      "                                                                 \n",
      " dropout_2 (Dropout)         (None, 8, 8, 128)         0         \n",
      "                                                                 \n",
      " flatten (Flatten)           (None, 8192)              0         \n",
      "                                                                 \n",
      " dense (Dense)               (None, 1024)              8389632   \n",
      "                                                                 \n",
      " batch_normalization_3 (Batc  (None, 1024)             4096      \n",
      " hNormalization)                                                 \n",
      "                                                                 \n",
      " dropout_3 (Dropout)         (None, 1024)              0         \n",
      "                                                                 \n",
      " dense_1 (Dense)             (None, 7)                 7175      \n",
      "                                                                 \n",
      "=================================================================\n",
      "Total params: 8,683,751\n",
      "Trainable params: 8,681,255\n",
      "Non-trainable params: 2,496\n",
      "_________________________________________________________________\n"
     ]
    }
   ],
   "source": [
    "model.summary()"
   ]
  },
  {
   "cell_type": "markdown",
   "id": "1df91872",
   "metadata": {},
   "source": [
    "# Train Model"
   ]
  },
  {
   "cell_type": "code",
   "execution_count": 20,
   "id": "001f6228",
   "metadata": {},
   "outputs": [
    {
     "name": "stdout",
     "output_type": "stream",
     "text": [
      "Epoch 1/10\n",
      "1206/1206 [==============================] - 367s 303ms/step - loss: 1.4293 - accuracy: 0.4851 - val_loss: 0.6897 - val_accuracy: 0.7623 - lr: 0.0010\n",
      "Epoch 2/10\n",
      "1206/1206 [==============================] - 379s 314ms/step - loss: 1.0693 - accuracy: 0.5944 - val_loss: 1.0093 - val_accuracy: 0.6759 - lr: 0.0010\n",
      "Epoch 3/10\n",
      "1206/1206 [==============================] - 373s 310ms/step - loss: 0.9496 - accuracy: 0.6401 - val_loss: 1.5194 - val_accuracy: 0.4414 - lr: 0.0010\n",
      "Epoch 4/10\n",
      "1206/1206 [==============================] - 378s 313ms/step - loss: 0.8608 - accuracy: 0.6731 - val_loss: 0.9166 - val_accuracy: 0.7036 - lr: 0.0010\n",
      "Epoch 5/10\n",
      "1206/1206 [==============================] - 379s 314ms/step - loss: 0.6764 - accuracy: 0.7419 - val_loss: 0.3560 - val_accuracy: 0.8699 - lr: 2.5000e-04\n",
      "Epoch 6/10\n",
      "1206/1206 [==============================] - 384s 318ms/step - loss: 0.6102 - accuracy: 0.7658 - val_loss: 0.3689 - val_accuracy: 0.8678 - lr: 2.5000e-04\n",
      "Epoch 7/10\n",
      "1206/1206 [==============================] - 389s 322ms/step - loss: 0.5520 - accuracy: 0.7892 - val_loss: 0.3809 - val_accuracy: 0.8614 - lr: 2.5000e-04\n",
      "Epoch 8/10\n",
      "1206/1206 [==============================] - 380s 315ms/step - loss: 0.5120 - accuracy: 0.8037 - val_loss: 0.3541 - val_accuracy: 0.8689 - lr: 2.5000e-04\n",
      "Epoch 9/10\n",
      "1206/1206 [==============================] - 383s 318ms/step - loss: 0.4690 - accuracy: 0.8232 - val_loss: 0.3399 - val_accuracy: 0.8827 - lr: 2.5000e-04\n",
      "Epoch 10/10\n",
      "1206/1206 [==============================] - 387s 321ms/step - loss: 0.4423 - accuracy: 0.8335 - val_loss: 0.5242 - val_accuracy: 0.8252 - lr: 2.5000e-04\n"
     ]
    }
   ],
   "source": [
    "training_history = model.fit(x=training_set, validation_data=validation_set, epochs=10, batch_size = 32, callbacks=[reduce_lr])"
   ]
  },
  {
   "cell_type": "code",
   "execution_count": 23,
   "id": "d21e1744",
   "metadata": {},
   "outputs": [
    {
     "name": "stdout",
     "output_type": "stream",
     "text": [
      "Epoch 1/10\n",
      "1206/1206 [==============================] - 372s 308ms/step - loss: 0.4114 - accuracy: 0.8453 - val_loss: 0.5033 - val_accuracy: 0.8422 - lr: 2.5000e-04\n",
      "Epoch 2/10\n",
      "1206/1206 [==============================] - 386s 320ms/step - loss: 0.3767 - accuracy: 0.8577 - val_loss: 0.6797 - val_accuracy: 0.8145 - lr: 2.5000e-04\n",
      "Epoch 3/10\n",
      "1206/1206 [==============================] - 379s 314ms/step - loss: 0.3596 - accuracy: 0.8653 - val_loss: 0.4538 - val_accuracy: 0.8614 - lr: 2.5000e-04\n",
      "Epoch 4/10\n",
      "1206/1206 [==============================] - 386s 320ms/step - loss: 0.3279 - accuracy: 0.8768 - val_loss: 0.4247 - val_accuracy: 0.8646 - lr: 2.5000e-04\n",
      "Epoch 5/10\n",
      "1206/1206 [==============================] - 393s 326ms/step - loss: 0.3126 - accuracy: 0.8831 - val_loss: 0.4659 - val_accuracy: 0.8614 - lr: 2.5000e-04\n",
      "Epoch 6/10\n",
      "1206/1206 [==============================] - 390s 323ms/step - loss: 0.2866 - accuracy: 0.8922 - val_loss: 0.5318 - val_accuracy: 0.8454 - lr: 2.5000e-04\n",
      "Epoch 7/10\n",
      "1206/1206 [==============================] - 399s 331ms/step - loss: 0.2683 - accuracy: 0.9015 - val_loss: 0.4419 - val_accuracy: 0.8753 - lr: 2.5000e-04\n",
      "Epoch 8/10\n",
      "1206/1206 [==============================] - 392s 325ms/step - loss: 0.2243 - accuracy: 0.9176 - val_loss: 0.4374 - val_accuracy: 0.8806 - lr: 6.2500e-05\n",
      "Epoch 9/10\n",
      "1206/1206 [==============================] - 393s 326ms/step - loss: 0.2015 - accuracy: 0.9269 - val_loss: 0.4057 - val_accuracy: 0.8795 - lr: 6.2500e-05\n",
      "Epoch 10/10\n",
      "1206/1206 [==============================] - 388s 321ms/step - loss: 0.1908 - accuracy: 0.9297 - val_loss: 0.4081 - val_accuracy: 0.8795 - lr: 6.2500e-05\n"
     ]
    }
   ],
   "source": [
    "training_history = model.fit(x=training_set, validation_data=validation_set, epochs=10, batch_size = 32, callbacks=[reduce_lr])"
   ]
  },
  {
   "cell_type": "code",
   "execution_count": 26,
   "id": "f077cb73",
   "metadata": {},
   "outputs": [
    {
     "name": "stdout",
     "output_type": "stream",
     "text": [
      "Epoch 1/10\n",
      "1206/1206 [==============================] - 369s 306ms/step - loss: 0.1892 - accuracy: 0.9317 - val_loss: 0.3976 - val_accuracy: 0.8795 - lr: 6.2500e-05\n",
      "Epoch 2/10\n",
      "1206/1206 [==============================] - 394s 326ms/step - loss: 0.1802 - accuracy: 0.9347 - val_loss: 0.4278 - val_accuracy: 0.8849 - lr: 6.2500e-05\n",
      "Epoch 3/10\n",
      "1206/1206 [==============================] - 399s 331ms/step - loss: 0.1731 - accuracy: 0.9377 - val_loss: 0.3977 - val_accuracy: 0.8849 - lr: 6.2500e-05\n",
      "Epoch 4/10\n",
      "1206/1206 [==============================] - 410s 340ms/step - loss: 0.1701 - accuracy: 0.9377 - val_loss: 0.4432 - val_accuracy: 0.8838 - lr: 6.2500e-05\n",
      "Epoch 5/10\n",
      "1206/1206 [==============================] - 403s 334ms/step - loss: 0.1545 - accuracy: 0.9441 - val_loss: 0.4146 - val_accuracy: 0.8849 - lr: 1.5625e-05\n",
      "Epoch 6/10\n",
      "1206/1206 [==============================] - 401s 332ms/step - loss: 0.1522 - accuracy: 0.9451 - val_loss: 0.4089 - val_accuracy: 0.8849 - lr: 1.5625e-05\n",
      "Epoch 7/10\n",
      "1206/1206 [==============================] - 387s 321ms/step - loss: 0.1520 - accuracy: 0.9461 - val_loss: 0.4092 - val_accuracy: 0.8859 - lr: 1.5625e-05\n",
      "Epoch 8/10\n",
      "1206/1206 [==============================] - 396s 328ms/step - loss: 0.1449 - accuracy: 0.9491 - val_loss: 0.4100 - val_accuracy: 0.8827 - lr: 1.0000e-05\n",
      "Epoch 9/10\n",
      "1206/1206 [==============================] - 409s 339ms/step - loss: 0.1455 - accuracy: 0.9485 - val_loss: 0.4078 - val_accuracy: 0.8838 - lr: 1.0000e-05\n",
      "Epoch 10/10\n",
      "1206/1206 [==============================] - 410s 340ms/step - loss: 0.1456 - accuracy: 0.9482 - val_loss: 0.4104 - val_accuracy: 0.8838 - lr: 1.0000e-05\n"
     ]
    }
   ],
   "source": [
    "training_history = model.fit(x=training_set, validation_data=validation_set, epochs=10, batch_size = 32, callbacks=[reduce_lr])"
   ]
  },
  {
   "cell_type": "code",
   "execution_count": null,
   "id": "b1c09bc8",
   "metadata": {},
   "outputs": [],
   "source": []
  },
  {
   "cell_type": "code",
   "execution_count": null,
   "id": "227fa5dd",
   "metadata": {},
   "outputs": [],
   "source": [
    "import json\n",
    "hist = training_history.history\n",
    "convert = {key: [float(val) for val in values] for key,values in hist.items()}\n",
    "with open('trainig_history3', 'w') as f:\n",
    "    json.dump(convert,f)"
   ]
  },
  {
   "cell_type": "code",
   "execution_count": 28,
   "id": "fb688831",
   "metadata": {},
   "outputs": [],
   "source": [
    "model.save(\"train_model2.keras\")"
   ]
  },
  {
   "cell_type": "code",
   "execution_count": 6,
   "id": "fe26b0ed",
   "metadata": {},
   "outputs": [],
   "source": [
    "model = tf.keras.models.load_model('train_model1.keras')"
   ]
  },
  {
   "cell_type": "code",
   "execution_count": null,
   "id": "3b491d37",
   "metadata": {},
   "outputs": [],
   "source": []
  },
  {
   "cell_type": "markdown",
   "id": "d9dc6f8f",
   "metadata": {},
   "source": [
    "# Load History"
   ]
  },
  {
   "cell_type": "code",
   "execution_count": 36,
   "id": "e3d3cb27",
   "metadata": {},
   "outputs": [],
   "source": [
    "with open('trainig_history1', 'r') as f:\n",
    "    history1 = json.load(f)"
   ]
  },
  {
   "cell_type": "code",
   "execution_count": 31,
   "id": "9dab5fef",
   "metadata": {},
   "outputs": [
    {
     "name": "stdout",
     "output_type": "stream",
     "text": [
      "1206/1206 [==============================] - 68s 57ms/step - loss: 0.0339 - accuracy: 0.9925\n"
     ]
    }
   ],
   "source": [
    "train_acc = model.evaluate(training_set)"
   ]
  },
  {
   "cell_type": "code",
   "execution_count": 32,
   "id": "76424fa8",
   "metadata": {},
   "outputs": [
    {
     "name": "stdout",
     "output_type": "stream",
     "text": [
      "30/30 [==============================] - 2s 55ms/step - loss: 0.4104 - accuracy: 0.8838\n"
     ]
    }
   ],
   "source": [
    "valid_acc = model.evaluate(validation_set)"
   ]
  },
  {
   "cell_type": "code",
   "execution_count": 33,
   "id": "3468ccdd",
   "metadata": {},
   "outputs": [
    {
     "name": "stdout",
     "output_type": "stream",
     "text": [
      "[0.03391946479678154, 0.9925069212913513] [0.4104405343532562, 0.8837953209877014]\n"
     ]
    }
   ],
   "source": [
    "print(train_acc, valid_acc)"
   ]
  },
  {
   "cell_type": "markdown",
   "id": "881273ff",
   "metadata": {},
   "source": [
    "# Plot Graph"
   ]
  },
  {
   "cell_type": "code",
   "execution_count": 40,
   "id": "1f24b83a",
   "metadata": {},
   "outputs": [
    {
     "data": {
      "image/png": "[encoded data removed]",
      "text/plain": [
       "<Figure size 640x480 with 1 Axes>"
      ]
     },
     "metadata": {},
     "output_type": "display_data"
    }
   ],
   "source": [
    "epochs = range(len(history1[\"loss\"]))\n",
    "plt.plot(epochs,history1['accuracy'],color='red',label='Training accuracy')\n",
    "plt.plot(epochs,history1['val_accuracy'],color='blue',label='Validation accuracy')\n",
    "plt.legend()\n",
    "plt.title(\"Accuracy Visu.\")\n",
    "plt.xlabel(\"No. of Epochs\")\n",
    "plt.ylabel(\"Accuracy\")\n",
    "plt.show()"
   ]
  },
  {
   "cell_type": "code",
   "execution_count": 41,
   "id": "1ee60cc1",
   "metadata": {},
   "outputs": [
    {
     "data": {
      "image/png": "[encoded data removed]",
      "text/plain": [
       "<Figure size 640x480 with 1 Axes>"
      ]
     },
     "metadata": {},
     "output_type": "display_data"
    }
   ],
   "source": [
    "epochs = range(len(history1[\"loss\"]))\n",
    "plt.plot(epochs,history1['loss'],color='red',label='Training loss')\n",
    "plt.plot(epochs,history1['val_loss'],color='blue',label='Validation loss')\n",
    "plt.legend()\n",
    "plt.title(\"loss Visu.\")\n",
    "plt.xlabel(\"No. of Epochs\")\n",
    "plt.ylabel(\"loss\")\n",
    "plt.show()"
   ]
  },
  {
   "cell_type": "code",
   "execution_count": null,
   "id": "419d0aa3",
   "metadata": {},
   "outputs": [],
   "source": []
  }
 ],
 "metadata": {
  "kernelspec": {
   "display_name": "Python 3 (ipykernel)",
   "language": "python",
   "name": "python3"
  },
  "language_info": {
   "codemirror_mode": {
    "name": "ipython",
    "version": 3
   },
   "file_extension": ".py",
   "mimetype": "text/x-python",
   "name": "python",
   "nbconvert_exporter": "python",
   "pygments_lexer": "ipython3",
   "version": "3.7.16"
  }
 },
 "nbformat": 4,
 "nbformat_minor": 5
}
